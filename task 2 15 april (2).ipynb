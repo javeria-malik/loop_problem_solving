{
 "cells": [
  {
   "cell_type": "code",
   "execution_count": 2,
   "id": "97c87774",
   "metadata": {},
   "outputs": [
    {
     "name": "stdout",
     "output_type": "stream",
     "text": [
      "pakistan\n",
      "pakistan\n",
      "pakistan\n",
      "pakistan\n",
      "pakistan\n"
     ]
    }
   ],
   "source": [
    "#Write a program that displays “Pakistan” for five times using while loop\n",
    "i=0\n",
    "while i<5:\n",
    "    print(\"pakistan\")\n",
    "    i+=1"
   ]
  },
  {
   "cell_type": "code",
   "execution_count": 5,
   "id": "14d52e73",
   "metadata": {},
   "outputs": [
    {
     "name": "stdout",
     "output_type": "stream",
     "text": [
      "1\n",
      "2\n",
      "3\n",
      "4\n",
      "5\n",
      "6\n",
      "7\n",
      "8\n",
      "9\n",
      "10\n",
      "11\n",
      "12\n",
      "13\n",
      "14\n",
      "15\n",
      "16\n",
      "17\n",
      "18\n",
      "19\n",
      "20\n",
      "21\n",
      "22\n",
      "23\n",
      "24\n",
      "25\n",
      "26\n",
      "27\n",
      "28\n",
      "29\n",
      "30\n",
      "31\n",
      "32\n",
      "33\n",
      "34\n",
      "35\n",
      "36\n",
      "37\n",
      "38\n",
      "39\n",
      "40\n",
      "41\n",
      "42\n",
      "43\n",
      "44\n",
      "45\n",
      "46\n",
      "47\n",
      "48\n",
      "49\n",
      "50\n"
     ]
    }
   ],
   "source": [
    "#Write a program that displays counting from 1 to 50 using while loop\n",
    "i=1\n",
    "while i<51:\n",
    "    print(i)\n",
    "    i+=1"
   ]
  },
  {
   "cell_type": "code",
   "execution_count": 2,
   "id": "5a515cad",
   "metadata": {},
   "outputs": [
    {
     "name": "stdout",
     "output_type": "stream",
     "text": [
      "1\n",
      "2\n",
      "3\n",
      "4\n",
      "5\n",
      "the sum is  20\n"
     ]
    }
   ],
   "source": [
    "#Write a program that displays first five number and their sum using \n",
    "i=1\n",
    "sum=0\n",
    "while i<6:\n",
    "    print(i)\n",
    "    i+=1\n",
    "    sum+=i\n",
    "print(\"the sum is \",sum)"
   ]
  },
  {
   "cell_type": "code",
   "execution_count": 14,
   "id": "5a1284cd",
   "metadata": {},
   "outputs": [
    {
     "name": "stdout",
     "output_type": "stream",
     "text": [
      "the square of 1 is 1\n",
      "the square of 2 is 4\n",
      "the square of 3 is 9\n",
      "the square of 4 is 16\n",
      "the square of 5 is 25\n"
     ]
    }
   ],
   "source": [
    "#Write a program that displays first five number and their squares using \n",
    "i=1\n",
    "while i<=5:\n",
    "    #print(i)\n",
    "    square=i**2\n",
    "    print(f\"the square of {i} is {square}\")\n",
    "    i+=1"
   ]
  },
  {
   "cell_type": "code",
   "execution_count": 4,
   "id": "c5cf6865",
   "metadata": {},
   "outputs": [
    {
     "name": "stdout",
     "output_type": "stream",
     "text": [
      "0\n",
      "0\n",
      "1\n",
      "1\n",
      "2\n",
      "8\n",
      "3\n",
      "27\n",
      "4\n",
      "64\n",
      "5\n",
      "125\n",
      "6\n",
      "216\n",
      "7\n",
      "343\n",
      "8\n",
      "512\n"
     ]
    }
   ],
   "source": [
    "i=0\n",
    "while i<=8:\n",
    "    print(i)\n",
    "    #i+=1\n",
    "    cube=i**3\n",
    "    print(cube)\n",
    "    i+=1"
   ]
  },
  {
   "cell_type": "code",
   "execution_count": 2,
   "id": "2302b995",
   "metadata": {},
   "outputs": [
    {
     "name": "stdout",
     "output_type": "stream",
     "text": [
      "enter your desire number7\n",
      "7x1=7\n",
      "7x2=14\n",
      "7x3=21\n",
      "7x4=28\n",
      "7x5=35\n",
      "7x6=42\n",
      "7x7=49\n",
      "7x8=56\n",
      "7x9=63\n",
      "7x10=70\n"
     ]
    }
   ],
   "source": [
    "\"\"\"Write a program that inputs a number from user and displays a table of \n",
    "that number using while loop\"\"\"\n",
    "i=int(input(\"enter your desire number\"))\n",
    "count=1\n",
    "while count<=10:\n",
    "    product=count*i\n",
    "    print(f\"{i}x{count}={product}\")\n",
    "    count+=1\n",
    "    "
   ]
  },
  {
   "cell_type": "code",
   "execution_count": 1,
   "id": "2c1815e6",
   "metadata": {},
   "outputs": [
    {
     "name": "stdout",
     "output_type": "stream",
     "text": [
      "smile plzz😀 😀 😀 😀\n",
      "smile plzz😀 😀 😀 😀\n",
      "smile plzz😀 😀 😀 😀\n",
      "smile plzz😀 😀 😀 😀\n",
      "smile plzz😀 😀 😀 😀\n"
     ]
    }
   ],
   "source": [
    "i=1\n",
    "while i<=5:\n",
    "    print(\"smile plzz\\U0001F600 \\U0001F600 \\U0001F600 \\U0001F600\")\n",
    "    i+=1"
   ]
  },
  {
   "cell_type": "code",
   "execution_count": 7,
   "id": "0eca97ef",
   "metadata": {},
   "outputs": [
    {
     "name": "stdout",
     "output_type": "stream",
     "text": [
      "enter your desire num8\n",
      "the factorial of 8 is 40320\n"
     ]
    }
   ],
   "source": [
    "\"\"\"Write a program that inputs a number from user and displays factorial of \n",
    "that number using while loop\"\"\"\n",
    "num=int(input(\"enter your desire num\"))\n",
    "fact=1\n",
    "count=1\n",
    "while count<=num:\n",
    "    fact*=count\n",
    "    count+=1\n",
    "print(f\"the factorial of {num} is {fact}\")\n"
   ]
  },
  {
   "cell_type": "code",
   "execution_count": 9,
   "id": "1207f550",
   "metadata": {},
   "outputs": [
    {
     "name": "stdout",
     "output_type": "stream",
     "text": [
      "entet2\n",
      "the factorial of 2 is 6\n"
     ]
    }
   ],
   "source": [
    "num=int(input(\"entet\"))\n",
    "fact=3# it will multiply fact with this number\n",
    "count=1\n",
    "while count<=num:\n",
    "    fact*=count\n",
    "    count+=1\n",
    "print(f\"the factorial of {num} is {fact}\")\n"
   ]
  },
  {
   "cell_type": "code",
   "execution_count": 12,
   "id": "4559b8dd",
   "metadata": {},
   "outputs": [
    {
     "name": "stdout",
     "output_type": "stream",
     "text": [
      "😀 😀 😀 😀 😀 😀 😀 😀\n",
      "😀\n",
      "😀\n",
      "😀\n",
      "😀\n",
      "😀\n",
      "😀 😀 😀 😀 😀 😀 😀 😀\n",
      "😀\n",
      "😀\n",
      "😀\n",
      "😀\n",
      "😀\n",
      "😀\n",
      "😀\n",
      "😀\n",
      "😀\n"
     ]
    }
   ],
   "source": [
    "# run it\n",
    "print(\"\\U0001F600 \\U0001F600 \\U0001F600 \\U0001F600 \\U0001F600 \\U0001F600 \\U0001F600 \\U0001F600\")\n",
    "print(\"\\U0001F600\")\n",
    "print(\"\\U0001F600\")\n",
    "print(\"\\U0001F600\")\n",
    "print(\"\\U0001F600\")\n",
    "print(\"\\U0001F600\")\n",
    "print(\"\\U0001F600 \\U0001F600 \\U0001F600 \\U0001F600 \\U0001F600 \\U0001F600 \\U0001F600 \\U0001F600\")\n",
    "print(\"\\U0001F600\")\n",
    "print(\"\\U0001F600\")\n",
    "print(\"\\U0001F600\")\n",
    "print(\"\\U0001F600\")\n",
    "print(\"\\U0001F600\")\n",
    "print(\"\\U0001F600\")\n",
    "print(\"\\U0001F600\")\n",
    "print(\"\\U0001F600\")\n",
    "print(\"\\U0001F600\")"
   ]
  },
  {
   "cell_type": "code",
   "execution_count": 17,
   "id": "9d1b5afc",
   "metadata": {},
   "outputs": [
    {
     "name": "stdout",
     "output_type": "stream",
     "text": [
      "1\n",
      "1\n",
      "2\n",
      "3\n",
      "5\n",
      "8\n",
      "13\n",
      "21\n",
      "34\n",
      "55\n",
      "89\n",
      "144\n"
     ]
    }
   ],
   "source": [
    "\"\"\"Write a program that displays the following Fibonacci series\n",
    "1 1 2 3 5 8 13 21 34 55 89\"\"\"\n",
    "pre=1\n",
    "curr=1\n",
    "print(pre)\n",
    "print(curr)\n",
    "count=2\n",
    "while count<=11:\n",
    "    next=curr+pre\n",
    "    print(next)\n",
    "    pre=curr\n",
    "    curr=next\n",
    "    count+=1"
   ]
  },
  {
   "cell_type": "code",
   "execution_count": 22,
   "id": "16eb9a07",
   "metadata": {},
   "outputs": [
    {
     "name": "stdout",
     "output_type": "stream",
     "text": [
      "A B C D E F G H I J K L M N O P Q R S T U V W X Y Z "
     ]
    }
   ],
   "source": [
    "#Write a program to display alphabets from A to Z using for loop\n",
    "for i in range(ord(\"A\"),ord(\"Z\")+1):# here +1 is use to include z \n",
    "        print(chr(i),end=\" \")# chr is used to convert again Ascii value to its corresponding character value "
   ]
  },
  {
   "cell_type": "code",
   "execution_count": 24,
   "id": "e14187d3",
   "metadata": {},
   "outputs": [
    {
     "name": "stdout",
     "output_type": "stream",
     "text": [
      "65 66 67 68 69 70 71 72 73 74 75 76 77 78 79 80 81 82 83 84 85 86 87 88 89 90 "
     ]
    }
   ],
   "source": [
    "for i in range(ord(\"A\"),ord(\"Z\")+1):\n",
    "    print(i,end=\" \")"
   ]
  },
  {
   "cell_type": "code",
   "execution_count": 46,
   "id": "e8d8d3fb",
   "metadata": {},
   "outputs": [
    {
     "name": "stdout",
     "output_type": "stream",
     "text": [
      "1\n",
      "2\n",
      "3\n",
      "4\n",
      "5\n",
      "6\n",
      "7\n",
      "8\n",
      "9\n",
      "10\n"
     ]
    }
   ],
   "source": [
    "#Write a Python program to print the numbers from 1 to 10 using a for loop\n",
    "i=0\n",
    "for i in range(10):\n",
    "    i+=1\n",
    "    print(i)"
   ]
  },
  {
   "cell_type": "code",
   "execution_count": 44,
   "id": "14f4289c",
   "metadata": {},
   "outputs": [
    {
     "name": "stdout",
     "output_type": "stream",
     "text": [
      "1275\n"
     ]
    }
   ],
   "source": [
    "#Write a Python program to find the sum of all the numbers from 1 to 50 using a for loop.\n",
    "sum=0\n",
    "for i in range(1,51):\n",
    "    sum+=i\n",
    "print(sum)"
   ]
  },
  {
   "cell_type": "code",
   "execution_count": 47,
   "id": "5ebf5807",
   "metadata": {},
   "outputs": [
    {
     "name": "stdout",
     "output_type": "stream",
     "text": [
      "2\n",
      "4\n",
      "6\n",
      "8\n",
      "10\n",
      "12\n",
      "14\n",
      "16\n",
      "18\n",
      "20\n"
     ]
    }
   ],
   "source": [
    "#Write a Python program to print the even numbers from 1 to 20 using a for loop.\n",
    "for i in range (1,21):\n",
    "    if i%2==0:\n",
    "        print(i)"
   ]
  },
  {
   "cell_type": "code",
   "execution_count": 48,
   "id": "3162a78d",
   "metadata": {},
   "outputs": [
    {
     "name": "stdout",
     "output_type": "stream",
     "text": [
      "enter7\n",
      "7x1=7\n",
      "7x2=14\n",
      "7x3=21\n",
      "7x4=28\n",
      "7x5=35\n",
      "7x6=42\n",
      "7x7=49\n",
      "7x8=56\n",
      "7x9=63\n",
      "7x10=70\n"
     ]
    }
   ],
   "source": [
    "#Write a Python program to print the multiplication table of a given number using a for loop.\n",
    "num=int(input(\"enter\"))\n",
    "for i in range(1,11):\n",
    "    product=num*i\n",
    "    print(f\"{num}x{i}={product}\")\n"
   ]
  },
  {
   "cell_type": "code",
   "execution_count": 49,
   "id": "a57c8758",
   "metadata": {},
   "outputs": [
    {
     "name": "stdout",
     "output_type": "stream",
     "text": [
      "enter last desire num10\n",
      "[1, 1, 2, 3, 5, 8]\n"
     ]
    }
   ],
   "source": [
    "#Write a Python program to print the Fibonacci sequence up to a given number using a for loop.\n",
    "n=int(input(\"enter last desire num\"))\n",
    "fibon_list=[1,1]\n",
    "for i in range(2,n):\n",
    "    next_fibon=fibon_list[i-1]+fibon_list[i-2]\n",
    "    if next_fibon>n:\n",
    "        break\n",
    "    fibon_list.append(next_fibon)\n",
    "print(fibon_list)"
   ]
  },
  {
   "cell_type": "code",
   "execution_count": 55,
   "id": "9a7e7245",
   "metadata": {},
   "outputs": [
    {
     "name": "stdout",
     "output_type": "stream",
     "text": [
      "enter9\n",
      "362880\n"
     ]
    }
   ],
   "source": [
    "#Write a Python program to find the factorial of a given number using a for loop.\n",
    "num=int(input(\"enter\"))\n",
    "fact=1\n",
    "for i in range(1,num+1):\n",
    "    fact*=i\n",
    "print(fact)"
   ]
  },
  {
   "cell_type": "code",
   "execution_count": 2,
   "id": "2a40f63b",
   "metadata": {},
   "outputs": [
    {
     "name": "stdout",
     "output_type": "stream",
     "text": [
      "enter20\n",
      "[2, 3, 5, 7, 11, 13, 17, 19]\n"
     ]
    }
   ],
   "source": [
    "#Write a Python program to find the prime numbers up to a given number using a for loop.\n",
    "n=int(input(\"enter\"))\n",
    "prime=[]\n",
    "for i in range(2,n+1):\n",
    "    is_prime=True\n",
    "    for j in range(2,i):\n",
    "        if i%j==0:\n",
    "            is_prime=False\n",
    "            break\n",
    "    if is_prime:\n",
    "            prime.append(i)\n",
    "print(prime)\n",
    "            \n"
   ]
  },
  {
   "cell_type": "code",
   "execution_count": 3,
   "id": "065712b5",
   "metadata": {},
   "outputs": [
    {
     "name": "stdout",
     "output_type": "stream",
     "text": [
      "['white snake', 'section b', 'love birds', 'useless']\n"
     ]
    }
   ],
   "source": [
    "#Write a Python program to find the common elements between two lists using a for loop.\n",
    "list1=[\"white snake\",\"uaf\",\"section a\",\"section b\",\"love birds\",\"useless\"]\n",
    "list2=[\"white snake\",\"hate \",\"section b\",\"love birds\",\"useless\"]\n",
    "common_element=[]\n",
    "for i in list1:\n",
    "    if i in list2:\n",
    "        common_element.append(i)\n",
    "print(common_element)\n"
   ]
  },
  {
   "cell_type": "code",
   "execution_count": 4,
   "id": "0840af82",
   "metadata": {},
   "outputs": [
    {
     "name": "stdout",
     "output_type": "stream",
     "text": [
      "282\n"
     ]
    }
   ],
   "source": [
    "#Write a Python program to find the largest element in a given list using a for loop\n",
    "list=[15,20,25,27,282,28]\n",
    "largest=list[0]\n",
    "for num in list:\n",
    "    if num>largest:\n",
    "        largest=num\n",
    "print(largest)"
   ]
  },
  {
   "cell_type": "code",
   "execution_count": null,
   "id": "d4f9e500",
   "metadata": {},
   "outputs": [],
   "source": []
  }
 ],
 "metadata": {
  "kernelspec": {
   "display_name": "Python 3",
   "language": "python",
   "name": "python3"
  },
  "language_info": {
   "codemirror_mode": {
    "name": "ipython",
    "version": 3
   },
   "file_extension": ".py",
   "mimetype": "text/x-python",
   "name": "python",
   "nbconvert_exporter": "python",
   "pygments_lexer": "ipython3",
   "version": "3.8.8"
  }
 },
 "nbformat": 4,
 "nbformat_minor": 5
}
