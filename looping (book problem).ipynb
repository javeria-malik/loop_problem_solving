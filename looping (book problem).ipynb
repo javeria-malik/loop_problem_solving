{
 "cells": [
  {
   "cell_type": "markdown",
   "id": "da09a392",
   "metadata": {},
   "source": [
    "problem 1"
   ]
  },
  {
   "cell_type": "code",
   "execution_count": 1,
   "id": "18001bed",
   "metadata": {},
   "outputs": [
    {
     "name": "stdout",
     "output_type": "stream",
     "text": [
      "pakistan\n",
      "pakistan\n",
      "pakistan\n",
      "pakistan\n",
      "pakistan\n"
     ]
    }
   ],
   "source": [
    "# print pakistan five times\n",
    "for i in range(5):\n",
    "    print(\"pakistan\")"
   ]
  },
  {
   "cell_type": "code",
   "execution_count": 5,
   "id": "89af4294",
   "metadata": {},
   "outputs": [
    {
     "name": "stdout",
     "output_type": "stream",
     "text": [
      "pakistan\n",
      "pakistan\n",
      "pakistan\n",
      "pakistan\n",
      "pakistan\n"
     ]
    }
   ],
   "source": [
    "i=0\n",
    "while i in range(5):\n",
    "    print(\"pakistan\")\n",
    "    i=i+1"
   ]
  },
  {
   "cell_type": "markdown",
   "id": "67155ec0",
   "metadata": {},
   "source": [
    "problem 2"
   ]
  },
  {
   "cell_type": "code",
   "execution_count": 8,
   "id": "c659386a",
   "metadata": {},
   "outputs": [
    {
     "name": "stdout",
     "output_type": "stream",
     "text": [
      "1\n",
      "2\n",
      "3\n",
      "4\n",
      "5\n",
      "6\n",
      "7\n",
      "8\n",
      "9\n",
      "10\n"
     ]
    }
   ],
   "source": [
    "#while loop display counting from 1 to 10\n",
    "i=1\n",
    "while i in range(11):\n",
    "    print(i)\n",
    "    i=i+1"
   ]
  },
  {
   "cell_type": "code",
   "execution_count": 9,
   "id": "d451d4f9",
   "metadata": {},
   "outputs": [
    {
     "name": "stdout",
     "output_type": "stream",
     "text": [
      "1\n",
      "2\n",
      "3\n",
      "4\n",
      "5\n",
      "6\n",
      "7\n",
      "8\n",
      "9\n",
      "10\n"
     ]
    }
   ],
   "source": [
    "i=1\n",
    "while i<=10:\n",
    "    print(i)\n",
    "    i+=1"
   ]
  },
  {
   "cell_type": "markdown",
   "id": "c134f35a",
   "metadata": {},
   "source": [
    "problem 3"
   ]
  },
  {
   "cell_type": "markdown",
   "id": "0ae2cd80",
   "metadata": {},
   "source": [
    "write python program that display first five numbers and their sum"
   ]
  },
  {
   "cell_type": "code",
   "execution_count": 1,
   "id": "91c3bc5d",
   "metadata": {},
   "outputs": [
    {
     "name": "stdout",
     "output_type": "stream",
     "text": [
      "1\n",
      "2\n",
      "3\n",
      "4\n",
      "5\n",
      "15\n"
     ]
    }
   ],
   "source": [
    "i=1\n",
    "sum=0\n",
    "while i<=5:\n",
    "    sum+=i\n",
    "    print(i)\n",
    "    i+=1# because it will also give increment in 5\n",
    "    \n",
    "print(sum)\n",
    "    "
   ]
  },
  {
   "cell_type": "code",
   "execution_count": 18,
   "id": "efa95dd3",
   "metadata": {},
   "outputs": [
    {
     "name": "stdout",
     "output_type": "stream",
     "text": [
      "1\n",
      "2\n",
      "3\n",
      "4\n",
      "5\n",
      "15\n"
     ]
    }
   ],
   "source": [
    "number=[]\n",
    "i=1\n",
    "sum=0\n",
    "while i<=5:\n",
    "    number.append(i)\n",
    "    sum+=i\n",
    "    print(i)\n",
    "    i+=1\n",
    "print(s um)\n",
    "    "
   ]
  },
  {
   "cell_type": "markdown",
   "id": "b6930b24",
   "metadata": {},
   "source": [
    "problem 4\n",
    "write a python program which also give its squrae"
   ]
  },
  {
   "cell_type": "code",
   "execution_count": 29,
   "id": "cec977c5",
   "metadata": {},
   "outputs": [
    {
     "name": "stdout",
     "output_type": "stream",
     "text": [
      "0\n",
      "1\n",
      "4\n",
      "9\n",
      "16\n"
     ]
    }
   ],
   "source": [
    "i=0\n",
    "while i in range(5):\n",
    "    print(i**2)\n",
    "    i+=1"
   ]
  },
  {
   "cell_type": "markdown",
   "id": "7b20b196",
   "metadata": {},
   "source": [
    "problem 5 take input from user and display its table"
   ]
  },
  {
   "cell_type": "code",
   "execution_count": 32,
   "id": "d7f146e6",
   "metadata": {},
   "outputs": [
    {
     "name": "stdout",
     "output_type": "stream",
     "text": [
      "enter your num7\n",
      "7 x 1 = 7\n",
      "7 x 2 = 14\n",
      "7 x 3 = 21\n",
      "7 x 4 = 28\n",
      "7 x 5 = 35\n",
      "7 x 6 = 42\n",
      "7 x 7 = 49\n",
      "7 x 8 = 56\n",
      "7 x 9 = 63\n",
      "7 x 10 = 70\n"
     ]
    }
   ],
   "source": [
    "x=int(input(\"enter your num\"))\n",
    "i=1\n",
    "while i in range(11):\n",
    "    res=x*i\n",
    "    print(f\"{x} x {i} = {res}\")\n",
    "    i+=1"
   ]
  },
  {
   "cell_type": "markdown",
   "id": "be942da8",
   "metadata": {},
   "source": [
    "\n"
   ]
  },
  {
   "cell_type": "code",
   "execution_count": null,
   "id": "4c6f59b0",
   "metadata": {},
   "outputs": [],
   "source": []
  },
  {
   "cell_type": "code",
   "execution_count": null,
   "id": "2b63899d",
   "metadata": {},
   "outputs": [],
   "source": []
  }
 ],
 "metadata": {
  "kernelspec": {
   "display_name": "Python 3",
   "language": "python",
   "name": "python3"
  },
  "language_info": {
   "codemirror_mode": {
    "name": "ipython",
    "version": 3
   },
   "file_extension": ".py",
   "mimetype": "text/x-python",
   "name": "python",
   "nbconvert_exporter": "python",
   "pygments_lexer": "ipython3",
   "version": "3.8.8"
  }
 },
 "nbformat": 4,
 "nbformat_minor": 5
}
