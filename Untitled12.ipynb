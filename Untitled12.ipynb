{
 "cells": [
  {
   "cell_type": "code",
   "execution_count": 1,
   "id": "906b57b4",
   "metadata": {},
   "outputs": [
    {
     "name": "stdout",
     "output_type": "stream",
     "text": [
      "0\n",
      "1\n",
      "8\n",
      "27\n",
      "64\n"
     ]
    }
   ],
   "source": [
    "#problem 11\n",
    "for i in range(5):\n",
    "    print(i**3)"
   ]
  },
  {
   "cell_type": "code",
   "execution_count": 15,
   "id": "11b24317",
   "metadata": {},
   "outputs": [
    {
     "name": "stdout",
     "output_type": "stream",
     "text": [
      "(4, 'ab')\n",
      "(6, 'ab')\n",
      "(8, 'ab')\n",
      "(10, 'ab')\n",
      "(12, 'ab')\n",
      "(14, 'ab')\n",
      "(16, 'ab')\n",
      "[(4, 'ab'), (6, 'ab'), (8, 'ab'), (10, 'ab'), (12, 'ab'), (14, 'ab'), (16, 'ab')]\n",
      "16\n",
      "36\n",
      "64\n",
      "100\n",
      "144\n",
      "196\n",
      "256\n"
     ]
    }
   ],
   "source": [
    "#problem 12\n",
    "list=[]\n",
    "for i in range(2,9):\n",
    "    l=2*i,\"ab\"\n",
    "    print(l)\n",
    "    list.append(l)\n",
    "print(list)\n",
    "for j in list:\n",
    "    print(j[0]**2)"
   ]
  },
  {
   "cell_type": "code",
   "execution_count": 1,
   "id": "f79018ca",
   "metadata": {},
   "outputs": [
    {
     "name": "stdout",
     "output_type": "stream",
     "text": [
      "-71\n",
      "-69\n",
      "-67\n",
      "-65\n"
     ]
    }
   ],
   "source": [
    "#problem 13\n",
    "i=1\n",
    "while i<8:\n",
    "    print(i+26-98)\n",
    "    i=i+2"
   ]
  },
  {
   "cell_type": "code",
   "execution_count": 4,
   "id": "29f19cfd",
   "metadata": {},
   "outputs": [
    {
     "name": "stdout",
     "output_type": "stream",
     "text": [
      "enter your namejaveria\n",
      "0\n",
      "1\n",
      "2\n",
      "3\n",
      "4\n",
      "5\n",
      "6\n"
     ]
    }
   ],
   "source": [
    "#problem 14\n",
    "x=input(\"enter your name\")\n",
    "for i in range(7):\n",
    "    if x==\"javeria\":\n",
    "        print(i)\n",
    "    \n",
    "    "
   ]
  },
  {
   "cell_type": "code",
   "execution_count": null,
   "id": "1849bd8d",
   "metadata": {},
   "outputs": [],
   "source": []
  }
 ],
 "metadata": {
  "kernelspec": {
   "display_name": "Python 3",
   "language": "python",
   "name": "python3"
  },
  "language_info": {
   "codemirror_mode": {
    "name": "ipython",
    "version": 3
   },
   "file_extension": ".py",
   "mimetype": "text/x-python",
   "name": "python",
   "nbconvert_exporter": "python",
   "pygments_lexer": "ipython3",
   "version": "3.8.8"
  }
 },
 "nbformat": 4,
 "nbformat_minor": 5
}
