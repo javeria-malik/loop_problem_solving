{
 "cells": [
  {
   "cell_type": "code",
   "execution_count": 6,
   "id": "1046d63d",
   "metadata": {},
   "outputs": [
    {
     "name": "stdout",
     "output_type": "stream",
     "text": [
      "ok \n",
      "sorry\n",
      "sorry\n"
     ]
    }
   ],
   "source": [
    "x=[\"j\",\"m\",\"l\"]\n",
    "for i in x:\n",
    "    if i==\"j\":\n",
    "        print(\"ok \")\n",
    "    else:\n",
    "        print(\"sorry\")"
   ]
  },
  {
   "cell_type": "code",
   "execution_count": 7,
   "id": "474def28",
   "metadata": {},
   "outputs": [
    {
     "name": "stdout",
     "output_type": "stream",
     "text": [
      "j\n",
      "m\n",
      "l\n"
     ]
    }
   ],
   "source": [
    "x=[\"j\",\"m\",\"l\"]\n",
    "for i in x:\n",
    "    print(i)"
   ]
  },
  {
   "cell_type": "code",
   "execution_count": 9,
   "id": "3e0fba7e",
   "metadata": {},
   "outputs": [
    {
     "name": "stdout",
     "output_type": "stream",
     "text": [
      "jj\n",
      "tiredtired\n",
      "fromfrom\n",
      "examexam\n"
     ]
    }
   ],
   "source": [
    "x=[\"j\",\"tired\",\"from\",\"exam\"]\n",
    "for i in x:\n",
    "    print(i*2)\n",
    "    "
   ]
  },
  {
   "cell_type": "code",
   "execution_count": 10,
   "id": "5295af30",
   "metadata": {},
   "outputs": [
    {
     "name": "stdout",
     "output_type": "stream",
     "text": [
      "jj\n",
      "tiredtired\n",
      "fromfrom\n",
      "examexam\n"
     ]
    }
   ],
   "source": [
    "x=[\"j\",\"tired\",\"from\",\"exam\"]\n",
    "for i in x:\n",
    "    print(i+i)\n",
    "    "
   ]
  },
  {
   "cell_type": "code",
   "execution_count": null,
   "id": "0a2f8d62",
   "metadata": {},
   "outputs": [],
   "source": []
  }
 ],
 "metadata": {
  "kernelspec": {
   "display_name": "Python 3",
   "language": "python",
   "name": "python3"
  },
  "language_info": {
   "codemirror_mode": {
    "name": "ipython",
    "version": 3
   },
   "file_extension": ".py",
   "mimetype": "text/x-python",
   "name": "python",
   "nbconvert_exporter": "python",
   "pygments_lexer": "ipython3",
   "version": "3.8.8"
  }
 },
 "nbformat": 4,
 "nbformat_minor": 5
}
