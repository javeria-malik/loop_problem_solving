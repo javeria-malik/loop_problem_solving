{
 "cells": [
  {
   "cell_type": "code",
   "execution_count": 2,
   "id": "e2cc2d0e",
   "metadata": {},
   "outputs": [
    {
     "name": "stdout",
     "output_type": "stream",
     "text": [
      "2\n",
      "3\n",
      "4\n",
      "5\n",
      "6\n",
      "7\n",
      "8\n",
      "9\n"
     ]
    }
   ],
   "source": [
    "#problem solving 1\n",
    "for i in range(2,10):\n",
    "    print(i)"
   ]
  },
  {
   "cell_type": "code",
   "execution_count": 3,
   "id": "dca6fa54",
   "metadata": {},
   "outputs": [
    {
     "name": "stdout",
     "output_type": "stream",
     "text": [
      "jed\n",
      "Aed\n",
      "ved\n"
     ]
    }
   ],
   "source": [
    "# PROBLEM SOLVING\n",
    "list=[\"j\",\"A\",\"v\"]\n",
    "for i in list:\n",
    "    print(i+\"ed\")"
   ]
  },
  {
   "cell_type": "code",
   "execution_count": 8,
   "id": "ec016a60",
   "metadata": {},
   "outputs": [
    {
     "name": "stdout",
     "output_type": "stream",
     "text": [
      "j\n",
      "jed\n",
      " \n",
      " ed\n",
      "a\n",
      "aed\n",
      " \n",
      " ed\n",
      "v\n",
      "ved\n",
      " \n",
      " ed\n",
      "e\n",
      "eed\n",
      " \n",
      " ed\n",
      "r\n",
      "red\n",
      " \n",
      " ed\n",
      "i\n",
      "ied\n",
      " \n",
      " ed\n",
      "a\n",
      "aed\n"
     ]
    }
   ],
   "source": [
    "#problem solving\n",
    "a=\"j a v e r i a\"\n",
    "a.split()\n",
    "for i in a:\n",
    "    print(i)\n",
    "    print(i+\"ed\")"
   ]
  },
  {
   "cell_type": "code",
   "execution_count": 12,
   "id": "5976f49d",
   "metadata": {},
   "outputs": [
    {
     "name": "stdout",
     "output_type": "stream",
     "text": [
      "enter your num6\n",
      "4\n",
      "6\n",
      "7\n",
      "3\n",
      "9\n"
     ]
    }
   ],
   "source": [
    "#problem solving\n",
    "a=[4,6,7,3,9]\n",
    "b=int(input(\"enter your num\"))\n",
    "if b in a:\n",
    "    for i in a:\n",
    "        print(i)\n",
    "else:\n",
    "    print(\"sorry\")"
   ]
  },
  {
   "cell_type": "code",
   "execution_count": null,
   "id": "e8694996",
   "metadata": {},
   "outputs": [],
   "source": []
  }
 ],
 "metadata": {
  "kernelspec": {
   "display_name": "Python 3",
   "language": "python",
   "name": "python3"
  },
  "language_info": {
   "codemirror_mode": {
    "name": "ipython",
    "version": 3
   },
   "file_extension": ".py",
   "mimetype": "text/x-python",
   "name": "python",
   "nbconvert_exporter": "python",
   "pygments_lexer": "ipython3",
   "version": "3.8.8"
  }
 },
 "nbformat": 4,
 "nbformat_minor": 5
}
